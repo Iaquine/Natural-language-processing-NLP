{
 "cells": [
  {
   "cell_type": "code",
   "execution_count": 1,
   "id": "5cf1b553-c6eb-4ddc-847c-bbfec695a271",
   "metadata": {},
   "outputs": [],
   "source": [
    "import numpy as np"
   ]
  },
  {
   "cell_type": "code",
   "execution_count": 29,
   "id": "ff32e906-127f-421b-aff4-1c6451dec665",
   "metadata": {},
   "outputs": [],
   "source": [
    "from sklearn.datasets import load_iris\n",
    "from keras.utils import to_categorical\n",
    "from sklearn.model_selection import train_test_split\n",
    "from sklearn.preprocessing import MinMaxScaler\n",
    "from keras.models import Sequential\n",
    "from keras.layers import Dense\n",
    "from sklearn.metrics import confusion_matrix, classification_report, accuracy_score"
   ]
  },
  {
   "cell_type": "code",
   "execution_count": 3,
   "id": "9061e439-0391-42c7-98be-86fcb3534dea",
   "metadata": {},
   "outputs": [],
   "source": [
    "iris = load_iris()"
   ]
  },
  {
   "cell_type": "code",
   "execution_count": 4,
   "id": "592c2458-0f8e-462c-b5c4-2fa143ed7474",
   "metadata": {},
   "outputs": [
    {
     "data": {
      "text/plain": [
       "sklearn.utils.Bunch"
      ]
     },
     "execution_count": 4,
     "metadata": {},
     "output_type": "execute_result"
    }
   ],
   "source": [
    "type(iris)"
   ]
  },
  {
   "cell_type": "code",
   "execution_count": 5,
   "id": "49176dbb-8897-46a6-a1d4-a15f54fc5554",
   "metadata": {},
   "outputs": [
    {
     "name": "stdout",
     "output_type": "stream",
     "text": [
      ".. _iris_dataset:\n",
      "\n",
      "Iris plants dataset\n",
      "--------------------\n",
      "\n",
      "**Data Set Characteristics:**\n",
      "\n",
      "    :Number of Instances: 150 (50 in each of three classes)\n",
      "    :Number of Attributes: 4 numeric, predictive attributes and the class\n",
      "    :Attribute Information:\n",
      "        - sepal length in cm\n",
      "        - sepal width in cm\n",
      "        - petal length in cm\n",
      "        - petal width in cm\n",
      "        - class:\n",
      "                - Iris-Setosa\n",
      "                - Iris-Versicolour\n",
      "                - Iris-Virginica\n",
      "                \n",
      "    :Summary Statistics:\n",
      "\n",
      "    ============== ==== ==== ======= ===== ====================\n",
      "                    Min  Max   Mean    SD   Class Correlation\n",
      "    ============== ==== ==== ======= ===== ====================\n",
      "    sepal length:   4.3  7.9   5.84   0.83    0.7826\n",
      "    sepal width:    2.0  4.4   3.05   0.43   -0.4194\n",
      "    petal length:   1.0  6.9   3.76   1.76    0.9490  (high!)\n",
      "    petal width:    0.1  2.5   1.20   0.76    0.9565  (high!)\n",
      "    ============== ==== ==== ======= ===== ====================\n",
      "\n",
      "    :Missing Attribute Values: None\n",
      "    :Class Distribution: 33.3% for each of 3 classes.\n",
      "    :Creator: R.A. Fisher\n",
      "    :Donor: Michael Marshall (MARSHALL%PLU@io.arc.nasa.gov)\n",
      "    :Date: July, 1988\n",
      "\n",
      "The famous Iris database, first used by Sir R.A. Fisher. The dataset is taken\n",
      "from Fisher's paper. Note that it's the same as in R, but not as in the UCI\n",
      "Machine Learning Repository, which has two wrong data points.\n",
      "\n",
      "This is perhaps the best known database to be found in the\n",
      "pattern recognition literature.  Fisher's paper is a classic in the field and\n",
      "is referenced frequently to this day.  (See Duda & Hart, for example.)  The\n",
      "data set contains 3 classes of 50 instances each, where each class refers to a\n",
      "type of iris plant.  One class is linearly separable from the other 2; the\n",
      "latter are NOT linearly separable from each other.\n",
      "\n",
      ".. topic:: References\n",
      "\n",
      "   - Fisher, R.A. \"The use of multiple measurements in taxonomic problems\"\n",
      "     Annual Eugenics, 7, Part II, 179-188 (1936); also in \"Contributions to\n",
      "     Mathematical Statistics\" (John Wiley, NY, 1950).\n",
      "   - Duda, R.O., & Hart, P.E. (1973) Pattern Classification and Scene Analysis.\n",
      "     (Q327.D83) John Wiley & Sons.  ISBN 0-471-22361-1.  See page 218.\n",
      "   - Dasarathy, B.V. (1980) \"Nosing Around the Neighborhood: A New System\n",
      "     Structure and Classification Rule for Recognition in Partially Exposed\n",
      "     Environments\".  IEEE Transactions on Pattern Analysis and Machine\n",
      "     Intelligence, Vol. PAMI-2, No. 1, 67-71.\n",
      "   - Gates, G.W. (1972) \"The Reduced Nearest Neighbor Rule\".  IEEE Transactions\n",
      "     on Information Theory, May 1972, 431-433.\n",
      "   - See also: 1988 MLC Proceedings, 54-64.  Cheeseman et al\"s AUTOCLASS II\n",
      "     conceptual clustering system finds 3 classes in the data.\n",
      "   - Many, many more ...\n"
     ]
    }
   ],
   "source": [
    "print(iris.DESCR)"
   ]
  },
  {
   "cell_type": "code",
   "execution_count": 6,
   "id": "724425c5-93fb-4e48-bb3e-daac550bc6b5",
   "metadata": {},
   "outputs": [],
   "source": [
    "x = iris.data"
   ]
  },
  {
   "cell_type": "code",
   "execution_count": 7,
   "id": "7530ce01-4630-4b2a-9245-bd319ed41e28",
   "metadata": {},
   "outputs": [],
   "source": [
    "y = iris.target"
   ]
  },
  {
   "cell_type": "code",
   "execution_count": 8,
   "id": "47482eb1-5de8-4233-9a07-48497cb3ede2",
   "metadata": {},
   "outputs": [
    {
     "data": {
      "text/plain": [
       "(150,)"
      ]
     },
     "execution_count": 8,
     "metadata": {},
     "output_type": "execute_result"
    }
   ],
   "source": [
    "y.shape"
   ]
  },
  {
   "cell_type": "code",
   "execution_count": 9,
   "id": "e9b11267-5a5a-446d-a811-d02ec612c0a7",
   "metadata": {},
   "outputs": [],
   "source": [
    "# One hot encoding\n",
    "# class 0 --> [1,0,0]\n",
    "# class 0 --> [0,1,0]\n",
    "# class 0 --> [0,0,1]\n",
    "y = to_categorical(y)"
   ]
  },
  {
   "cell_type": "code",
   "execution_count": 10,
   "id": "21613dbb-c218-429a-9edd-00db0dcae9a2",
   "metadata": {},
   "outputs": [
    {
     "data": {
      "text/plain": [
       "(150, 3)"
      ]
     },
     "execution_count": 10,
     "metadata": {},
     "output_type": "execute_result"
    }
   ],
   "source": [
    "y.shape"
   ]
  },
  {
   "cell_type": "code",
   "execution_count": 11,
   "id": "9bc6ebb3-c78d-4ff8-9658-08f7a06744f1",
   "metadata": {},
   "outputs": [],
   "source": [
    "# Separando o dataset em treino e teste\n",
    "X_train, X_test, y_train, y_test = train_test_split(\n",
    "    x, y, test_size=0.33, random_state=42)"
   ]
  },
  {
   "cell_type": "code",
   "execution_count": 12,
   "id": "d2bc5287-666d-4b4c-8ec5-1f308bba9b55",
   "metadata": {},
   "outputs": [],
   "source": [
    "# Padronizando os dados\n",
    "scaler_object = MinMaxScaler()"
   ]
  },
  {
   "cell_type": "code",
   "execution_count": 13,
   "id": "2b800bd7-1b30-4fe0-8316-397b8d0bad1e",
   "metadata": {},
   "outputs": [
    {
     "data": {
      "text/plain": [
       "MinMaxScaler()"
      ]
     },
     "execution_count": 13,
     "metadata": {},
     "output_type": "execute_result"
    }
   ],
   "source": [
    "scaler_object.fit(X_train)"
   ]
  },
  {
   "cell_type": "code",
   "execution_count": 20,
   "id": "5faf25d0-81b7-4665-929c-90b007642541",
   "metadata": {
    "collapsed": true,
    "jupyter": {
     "outputs_hidden": true
    },
    "tags": []
   },
   "outputs": [
    {
     "data": {
      "text/plain": [
       "array([[0.41176471, 0.40909091, 0.55357143, 0.5       ],\n",
       "       [0.97058824, 0.45454545, 0.98214286, 0.83333333],\n",
       "       [0.38235294, 0.45454545, 0.60714286, 0.58333333],\n",
       "       [0.23529412, 0.68181818, 0.05357143, 0.04166667],\n",
       "       [1.        , 0.36363636, 1.        , 0.79166667],\n",
       "       [0.44117647, 0.31818182, 0.53571429, 0.375     ],\n",
       "       [0.26470588, 0.63636364, 0.05357143, 0.04166667],\n",
       "       [0.20588235, 0.68181818, 0.03571429, 0.08333333],\n",
       "       [0.23529412, 0.81818182, 0.14285714, 0.125     ],\n",
       "       [0.20588235, 0.        , 0.42857143, 0.375     ],\n",
       "       [0.58823529, 0.31818182, 0.67857143, 0.70833333],\n",
       "       [0.14705882, 0.63636364, 0.14285714, 0.04166667],\n",
       "       [0.20588235, 0.45454545, 0.08928571, 0.04166667],\n",
       "       [0.23529412, 0.59090909, 0.10714286, 0.16666667],\n",
       "       [0.38235294, 0.31818182, 0.55357143, 0.5       ],\n",
       "       [0.23529412, 0.63636364, 0.07142857, 0.04166667],\n",
       "       [0.41176471, 0.45454545, 0.55357143, 0.45833333],\n",
       "       [1.        , 0.81818182, 1.        , 0.875     ],\n",
       "       [0.08823529, 0.54545455, 0.05357143, 0.04166667],\n",
       "       [0.55882353, 0.40909091, 0.57142857, 0.5       ],\n",
       "       [0.41176471, 0.22727273, 0.69642857, 0.79166667],\n",
       "       [0.35294118, 1.        , 0.05357143, 0.04166667],\n",
       "       [0.5       , 0.45454545, 0.66071429, 0.70833333],\n",
       "       [0.44117647, 0.31818182, 0.71428571, 0.75      ],\n",
       "       [0.5       , 0.09090909, 0.51785714, 0.375     ],\n",
       "       [0.32352941, 0.45454545, 0.60714286, 0.58333333],\n",
       "       [0.55882353, 0.63636364, 0.76785714, 0.91666667],\n",
       "       [0.35294118, 0.13636364, 0.51785714, 0.5       ],\n",
       "       [0.32352941, 0.86363636, 0.10714286, 0.125     ],\n",
       "       [0.20588235, 0.13636364, 0.39285714, 0.375     ],\n",
       "       [0.61764706, 0.31818182, 0.75      , 0.75      ],\n",
       "       [0.20588235, 0.59090909, 0.05357143, 0.04166667],\n",
       "       [0.20588235, 0.54545455, 0.01785714, 0.04166667],\n",
       "       [0.35294118, 0.18181818, 0.48214286, 0.41666667],\n",
       "       [0.70588235, 0.45454545, 0.69642857, 0.66666667],\n",
       "       [0.17647059, 0.5       , 0.07142857, 0.04166667],\n",
       "       [0.44117647, 0.36363636, 0.71428571, 0.95833333],\n",
       "       [0.20588235, 0.63636364, 0.07142857, 0.04166667],\n",
       "       [0.20588235, 0.68181818, 0.08928571, 0.20833333],\n",
       "       [0.47058824, 0.54545455, 0.66071429, 0.70833333],\n",
       "       [0.23529412, 0.22727273, 0.33928571, 0.41666667],\n",
       "       [0.76470588, 0.54545455, 0.82142857, 0.91666667],\n",
       "       [0.5       , 0.31818182, 0.71428571, 0.625     ],\n",
       "       [0.52941176, 0.27272727, 0.80357143, 0.54166667],\n",
       "       [1.        , 0.45454545, 0.89285714, 0.91666667],\n",
       "       [0.35294118, 0.22727273, 0.51785714, 0.5       ],\n",
       "       [0.02941176, 0.40909091, 0.05357143, 0.04166667],\n",
       "       [0.        , 0.45454545, 0.        , 0.        ],\n",
       "       [0.5       , 0.09090909, 0.69642857, 0.58333333],\n",
       "       [0.85294118, 0.54545455, 0.875     , 0.70833333],\n",
       "       [0.08823529, 0.5       , 0.07142857, 0.04166667],\n",
       "       [0.23529412, 0.68181818, 0.05357143, 0.08333333],\n",
       "       [0.02941176, 0.45454545, 0.03571429, 0.04166667],\n",
       "       [0.58823529, 0.22727273, 0.67857143, 0.58333333],\n",
       "       [0.58823529, 0.63636364, 0.80357143, 0.95833333],\n",
       "       [0.08823529, 0.63636364, 0.05357143, 0.08333333],\n",
       "       [0.73529412, 0.45454545, 0.78571429, 0.83333333],\n",
       "       [0.58823529, 0.59090909, 0.875     , 1.        ],\n",
       "       [0.11764706, 0.54545455, 0.03571429, 0.04166667],\n",
       "       [0.52941176, 0.40909091, 0.64285714, 0.54166667],\n",
       "       [0.64705882, 0.36363636, 0.625     , 0.58333333],\n",
       "       [0.55882353, 0.36363636, 0.66071429, 0.70833333],\n",
       "       [0.79411765, 0.54545455, 0.64285714, 0.54166667],\n",
       "       [0.61764706, 0.54545455, 0.75      , 0.91666667],\n",
       "       [0.23529412, 0.81818182, 0.08928571, 0.04166667],\n",
       "       [0.76470588, 0.5       , 0.76785714, 0.83333333],\n",
       "       [0.47058824, 0.45454545, 0.55357143, 0.58333333],\n",
       "       [0.64705882, 0.45454545, 0.73214286, 0.79166667],\n",
       "       [0.41176471, 0.27272727, 0.42857143, 0.375     ],\n",
       "       [0.26470588, 0.31818182, 0.5       , 0.54166667],\n",
       "       [0.52941176, 0.45454545, 0.625     , 0.54166667],\n",
       "       [0.05882353, 0.13636364, 0.03571429, 0.08333333],\n",
       "       [0.67647059, 0.40909091, 0.625     , 0.5       ],\n",
       "       [0.35294118, 0.27272727, 0.58928571, 0.45833333],\n",
       "       [0.29411765, 0.77272727, 0.07142857, 0.04166667],\n",
       "       [0.38235294, 0.45454545, 0.53571429, 0.5       ],\n",
       "       [0.88235294, 0.40909091, 0.92857143, 0.70833333],\n",
       "       [0.70588235, 0.59090909, 0.82142857, 0.83333333],\n",
       "       [0.23529412, 0.77272727, 0.07142857, 0.125     ],\n",
       "       [0.17647059, 0.18181818, 0.39285714, 0.375     ],\n",
       "       [0.70588235, 0.59090909, 0.82142857, 1.        ],\n",
       "       [0.85294118, 0.45454545, 0.83928571, 0.625     ],\n",
       "       [0.17647059, 0.72727273, 0.05357143, 0.        ],\n",
       "       [0.70588235, 0.5       , 0.80357143, 0.95833333],\n",
       "       [0.17647059, 0.45454545, 0.05357143, 0.04166667],\n",
       "       [0.76470588, 0.5       , 0.67857143, 0.58333333],\n",
       "       [0.91176471, 0.36363636, 0.89285714, 0.75      ],\n",
       "       [0.58823529, 0.40909091, 0.80357143, 0.70833333],\n",
       "       [0.41176471, 0.36363636, 0.53571429, 0.5       ],\n",
       "       [0.64705882, 0.45454545, 0.78571429, 0.70833333],\n",
       "       [0.58823529, 0.13636364, 0.58928571, 0.5       ],\n",
       "       [0.61764706, 0.40909091, 0.57142857, 0.5       ],\n",
       "       [0.38235294, 0.36363636, 0.67857143, 0.79166667],\n",
       "       [0.47058824, 0.45454545, 0.71428571, 0.70833333],\n",
       "       [0.32352941, 0.63636364, 0.10714286, 0.04166667],\n",
       "       [0.52941176, 0.36363636, 0.51785714, 0.5       ],\n",
       "       [0.17647059, 0.22727273, 0.60714286, 0.66666667],\n",
       "       [0.44117647, 0.90909091, 0.01785714, 0.04166667],\n",
       "       [0.44117647, 0.27272727, 0.51785714, 0.45833333],\n",
       "       [0.82352941, 0.45454545, 0.85714286, 0.83333333]])"
      ]
     },
     "execution_count": 20,
     "metadata": {},
     "output_type": "execute_result"
    }
   ],
   "source": [
    "scaled_X_train = scaler_object.transform(X_train)\n",
    "scaled_X_train"
   ]
  },
  {
   "cell_type": "code",
   "execution_count": 19,
   "id": "93ebe3db-eda2-4695-a7d3-989412171271",
   "metadata": {
    "collapsed": true,
    "jupyter": {
     "outputs_hidden": true
    },
    "tags": []
   },
   "outputs": [
    {
     "data": {
      "text/plain": [
       "array([[ 0.52941176,  0.36363636,  0.64285714,  0.45833333],\n",
       "       [ 0.41176471,  0.81818182,  0.10714286,  0.08333333],\n",
       "       [ 1.        ,  0.27272727,  1.03571429,  0.91666667],\n",
       "       [ 0.5       ,  0.40909091,  0.60714286,  0.58333333],\n",
       "       [ 0.73529412,  0.36363636,  0.66071429,  0.54166667],\n",
       "       [ 0.32352941,  0.63636364,  0.07142857,  0.125     ],\n",
       "       [ 0.38235294,  0.40909091,  0.44642857,  0.5       ],\n",
       "       [ 0.76470588,  0.5       ,  0.71428571,  0.91666667],\n",
       "       [ 0.55882353,  0.09090909,  0.60714286,  0.58333333],\n",
       "       [ 0.44117647,  0.31818182,  0.5       ,  0.45833333],\n",
       "       [ 0.64705882,  0.54545455,  0.71428571,  0.79166667],\n",
       "       [ 0.14705882,  0.45454545,  0.05357143,  0.        ],\n",
       "       [ 0.35294118,  0.68181818,  0.03571429,  0.04166667],\n",
       "       [ 0.17647059,  0.5       ,  0.07142857,  0.        ],\n",
       "       [ 0.23529412,  0.81818182,  0.07142857,  0.08333333],\n",
       "       [ 0.58823529,  0.59090909,  0.64285714,  0.625     ],\n",
       "       [ 0.64705882,  0.45454545,  0.83928571,  0.875     ],\n",
       "       [ 0.38235294,  0.22727273,  0.5       ,  0.41666667],\n",
       "       [ 0.41176471,  0.36363636,  0.60714286,  0.5       ],\n",
       "       [ 0.61764706,  0.36363636,  0.80357143,  0.875     ],\n",
       "       [ 0.11764706,  0.54545455,  0.08928571,  0.04166667],\n",
       "       [ 0.52941176,  0.45454545,  0.67857143,  0.70833333],\n",
       "       [ 0.20588235,  0.63636364,  0.08928571,  0.125     ],\n",
       "       [ 0.61764706,  0.36363636,  0.80357143,  0.83333333],\n",
       "       [ 1.05882353,  0.81818182,  0.94642857,  0.79166667],\n",
       "       [ 0.70588235,  0.45454545,  0.73214286,  0.91666667],\n",
       "       [ 0.70588235,  0.22727273,  0.83928571,  0.70833333],\n",
       "       [ 0.73529412,  0.54545455,  0.85714286,  0.91666667],\n",
       "       [ 0.14705882,  0.45454545,  0.05357143,  0.08333333],\n",
       "       [ 0.14705882,  0.5       ,  0.08928571,  0.04166667],\n",
       "       [ 0.08823529,  0.72727273, -0.01785714,  0.04166667],\n",
       "       [ 0.41176471,  1.09090909,  0.07142857,  0.125     ],\n",
       "       [ 0.70588235,  0.5       ,  0.58928571,  0.54166667],\n",
       "       [ 0.14705882,  0.63636364,  0.08928571,  0.04166667],\n",
       "       [ 0.02941176,  0.54545455,  0.03571429,  0.04166667],\n",
       "       [ 0.58823529,  0.22727273,  0.69642857,  0.75      ],\n",
       "       [ 0.61764706,  0.54545455,  0.60714286,  0.58333333],\n",
       "       [ 0.26470588,  0.68181818,  0.07142857,  0.04166667],\n",
       "       [ 0.20588235,  0.72727273,  0.05357143,  0.04166667],\n",
       "       [ 0.26470588,  0.95454545,  0.07142857,  0.        ],\n",
       "       [ 0.44117647,  0.31818182,  0.71428571,  0.75      ],\n",
       "       [ 0.5       ,  0.63636364,  0.60714286,  0.625     ],\n",
       "       [ 0.70588235,  0.5       ,  0.64285714,  0.58333333],\n",
       "       [ 0.32352941,  0.86363636,  0.03571429,  0.125     ],\n",
       "       [ 0.32352941,  0.77272727,  0.07142857,  0.04166667],\n",
       "       [ 0.35294118,  0.18181818,  0.46428571,  0.375     ],\n",
       "       [ 0.58823529,  0.36363636,  0.71428571,  0.58333333],\n",
       "       [ 0.61764706,  0.5       ,  0.78571429,  0.70833333],\n",
       "       [ 0.67647059,  0.45454545,  0.58928571,  0.54166667],\n",
       "       [ 0.85294118,  0.72727273,  0.89285714,  1.        ]])"
      ]
     },
     "execution_count": 19,
     "metadata": {},
     "output_type": "execute_result"
    }
   ],
   "source": [
    "scaled_X_test = scaler_object.transform(X_test)\n",
    "scaled_X_test"
   ]
  },
  {
   "cell_type": "code",
   "execution_count": 25,
   "id": "7338fcd9-154f-4eb0-b353-cb292de86a08",
   "metadata": {},
   "outputs": [],
   "source": [
    "# construindo o modelo\n",
    "model = Sequential()\n",
    "model.add(Dense(8, input_dim=4, activation='relu'))\n",
    "model.add(Dense(8, input_dim=4, activation='relu'))\n",
    "model.add(Dense(3, activation='softmax'))\n",
    "model.compile(loss='categorical_crossentropy', \n",
    "              optimizer='adam',\n",
    "              metrics=['accuracy'])"
   ]
  },
  {
   "cell_type": "code",
   "execution_count": 26,
   "id": "ca1e0d94-84e3-4b81-b35c-88c4173ab369",
   "metadata": {},
   "outputs": [
    {
     "name": "stdout",
     "output_type": "stream",
     "text": [
      "Model: \"sequential_1\"\n",
      "_________________________________________________________________\n",
      " Layer (type)                Output Shape              Param #   \n",
      "=================================================================\n",
      " dense (Dense)               (None, 8)                 40        \n",
      "                                                                 \n",
      " dense_1 (Dense)             (None, 8)                 72        \n",
      "                                                                 \n",
      " dense_2 (Dense)             (None, 3)                 27        \n",
      "                                                                 \n",
      "=================================================================\n",
      "Total params: 139\n",
      "Trainable params: 139\n",
      "Non-trainable params: 0\n",
      "_________________________________________________________________\n"
     ]
    }
   ],
   "source": [
    "model.summary()"
   ]
  },
  {
   "cell_type": "code",
   "execution_count": 27,
   "id": "87324fcd-c715-4d5c-9c08-9c75ee573086",
   "metadata": {
    "collapsed": true,
    "jupyter": {
     "outputs_hidden": true
    },
    "tags": []
   },
   "outputs": [
    {
     "name": "stdout",
     "output_type": "stream",
     "text": [
      "Epoch 1/150\n",
      "4/4 - 0s - loss: 1.0335 - accuracy: 0.6600 - 366ms/epoch - 92ms/step\n",
      "Epoch 2/150\n",
      "4/4 - 0s - loss: 1.0238 - accuracy: 0.6600 - 5ms/epoch - 1ms/step\n",
      "Epoch 3/150\n",
      "4/4 - 0s - loss: 1.0142 - accuracy: 0.6600 - 4ms/epoch - 1ms/step\n",
      "Epoch 4/150\n",
      "4/4 - 0s - loss: 1.0059 - accuracy: 0.6600 - 4ms/epoch - 984us/step\n",
      "Epoch 5/150\n",
      "4/4 - 0s - loss: 0.9969 - accuracy: 0.6600 - 4ms/epoch - 1ms/step\n",
      "Epoch 6/150\n",
      "4/4 - 0s - loss: 0.9892 - accuracy: 0.6600 - 5ms/epoch - 1ms/step\n",
      "Epoch 7/150\n",
      "4/4 - 0s - loss: 0.9811 - accuracy: 0.6600 - 4ms/epoch - 1ms/step\n",
      "Epoch 8/150\n",
      "4/4 - 0s - loss: 0.9732 - accuracy: 0.6600 - 6ms/epoch - 1ms/step\n",
      "Epoch 9/150\n",
      "4/4 - 0s - loss: 0.9652 - accuracy: 0.6600 - 5ms/epoch - 1ms/step\n",
      "Epoch 10/150\n",
      "4/4 - 0s - loss: 0.9576 - accuracy: 0.6600 - 6ms/epoch - 2ms/step\n",
      "Epoch 11/150\n",
      "4/4 - 0s - loss: 0.9506 - accuracy: 0.6600 - 5ms/epoch - 1ms/step\n",
      "Epoch 12/150\n",
      "4/4 - 0s - loss: 0.9433 - accuracy: 0.6600 - 5ms/epoch - 1ms/step\n",
      "Epoch 13/150\n",
      "4/4 - 0s - loss: 0.9362 - accuracy: 0.6600 - 6ms/epoch - 1ms/step\n",
      "Epoch 14/150\n",
      "4/4 - 0s - loss: 0.9290 - accuracy: 0.6600 - 4ms/epoch - 1ms/step\n",
      "Epoch 15/150\n",
      "4/4 - 0s - loss: 0.9218 - accuracy: 0.6600 - 5ms/epoch - 1ms/step\n",
      "Epoch 16/150\n",
      "4/4 - 0s - loss: 0.9149 - accuracy: 0.6600 - 5ms/epoch - 1ms/step\n",
      "Epoch 17/150\n",
      "4/4 - 0s - loss: 0.9079 - accuracy: 0.6600 - 5ms/epoch - 1ms/step\n",
      "Epoch 18/150\n",
      "4/4 - 0s - loss: 0.9003 - accuracy: 0.6600 - 5ms/epoch - 1ms/step\n",
      "Epoch 19/150\n",
      "4/4 - 0s - loss: 0.8930 - accuracy: 0.6600 - 5ms/epoch - 1ms/step\n",
      "Epoch 20/150\n",
      "4/4 - 0s - loss: 0.8858 - accuracy: 0.6600 - 5ms/epoch - 1ms/step\n",
      "Epoch 21/150\n",
      "4/4 - 0s - loss: 0.8783 - accuracy: 0.6600 - 5ms/epoch - 1ms/step\n",
      "Epoch 22/150\n",
      "4/4 - 0s - loss: 0.8709 - accuracy: 0.6600 - 5ms/epoch - 1ms/step\n",
      "Epoch 23/150\n",
      "4/4 - 0s - loss: 0.8635 - accuracy: 0.6600 - 5ms/epoch - 1ms/step\n",
      "Epoch 24/150\n",
      "4/4 - 0s - loss: 0.8562 - accuracy: 0.6600 - 5ms/epoch - 1ms/step\n",
      "Epoch 25/150\n",
      "4/4 - 0s - loss: 0.8484 - accuracy: 0.6600 - 6ms/epoch - 1ms/step\n",
      "Epoch 26/150\n",
      "4/4 - 0s - loss: 0.8407 - accuracy: 0.6600 - 5ms/epoch - 1ms/step\n",
      "Epoch 27/150\n",
      "4/4 - 0s - loss: 0.8332 - accuracy: 0.6600 - 5ms/epoch - 1ms/step\n",
      "Epoch 28/150\n",
      "4/4 - 0s - loss: 0.8255 - accuracy: 0.6600 - 5ms/epoch - 1ms/step\n",
      "Epoch 29/150\n",
      "4/4 - 0s - loss: 0.8177 - accuracy: 0.6600 - 4ms/epoch - 1ms/step\n",
      "Epoch 30/150\n",
      "4/4 - 0s - loss: 0.8100 - accuracy: 0.6600 - 6ms/epoch - 1ms/step\n",
      "Epoch 31/150\n",
      "4/4 - 0s - loss: 0.8022 - accuracy: 0.6600 - 5ms/epoch - 1ms/step\n",
      "Epoch 32/150\n",
      "4/4 - 0s - loss: 0.7944 - accuracy: 0.6600 - 5ms/epoch - 1ms/step\n",
      "Epoch 33/150\n",
      "4/4 - 0s - loss: 0.7865 - accuracy: 0.6600 - 5ms/epoch - 1ms/step\n",
      "Epoch 34/150\n",
      "4/4 - 0s - loss: 0.7795 - accuracy: 0.6600 - 4ms/epoch - 1ms/step\n",
      "Epoch 35/150\n",
      "4/4 - 0s - loss: 0.7724 - accuracy: 0.6500 - 5ms/epoch - 1ms/step\n",
      "Epoch 36/150\n",
      "4/4 - 0s - loss: 0.7650 - accuracy: 0.6300 - 5ms/epoch - 1ms/step\n",
      "Epoch 37/150\n",
      "4/4 - 0s - loss: 0.7588 - accuracy: 0.6100 - 5ms/epoch - 1ms/step\n",
      "Epoch 38/150\n",
      "4/4 - 0s - loss: 0.7517 - accuracy: 0.6200 - 5ms/epoch - 1ms/step\n",
      "Epoch 39/150\n",
      "4/4 - 0s - loss: 0.7451 - accuracy: 0.6000 - 5ms/epoch - 1ms/step\n",
      "Epoch 40/150\n",
      "4/4 - 0s - loss: 0.7386 - accuracy: 0.6000 - 5ms/epoch - 1ms/step\n",
      "Epoch 41/150\n",
      "4/4 - 0s - loss: 0.7320 - accuracy: 0.5900 - 5ms/epoch - 1ms/step\n",
      "Epoch 42/150\n",
      "4/4 - 0s - loss: 0.7255 - accuracy: 0.5800 - 5ms/epoch - 1ms/step\n",
      "Epoch 43/150\n",
      "4/4 - 0s - loss: 0.7190 - accuracy: 0.5700 - 5ms/epoch - 1ms/step\n",
      "Epoch 44/150\n",
      "4/4 - 0s - loss: 0.7127 - accuracy: 0.5600 - 5ms/epoch - 1ms/step\n",
      "Epoch 45/150\n",
      "4/4 - 0s - loss: 0.7062 - accuracy: 0.5400 - 6ms/epoch - 1ms/step\n",
      "Epoch 46/150\n",
      "4/4 - 0s - loss: 0.6998 - accuracy: 0.5800 - 5ms/epoch - 1ms/step\n",
      "Epoch 47/150\n",
      "4/4 - 0s - loss: 0.6935 - accuracy: 0.6000 - 5ms/epoch - 1ms/step\n",
      "Epoch 48/150\n",
      "4/4 - 0s - loss: 0.6880 - accuracy: 0.5800 - 5ms/epoch - 1ms/step\n",
      "Epoch 49/150\n",
      "4/4 - 0s - loss: 0.6821 - accuracy: 0.6200 - 4ms/epoch - 1ms/step\n",
      "Epoch 50/150\n",
      "4/4 - 0s - loss: 0.6766 - accuracy: 0.6100 - 5ms/epoch - 1ms/step\n",
      "Epoch 51/150\n",
      "4/4 - 0s - loss: 0.6713 - accuracy: 0.6200 - 4ms/epoch - 1ms/step\n",
      "Epoch 52/150\n",
      "4/4 - 0s - loss: 0.6660 - accuracy: 0.6500 - 6ms/epoch - 1ms/step\n",
      "Epoch 53/150\n",
      "4/4 - 0s - loss: 0.6605 - accuracy: 0.6600 - 5ms/epoch - 1ms/step\n",
      "Epoch 54/150\n",
      "4/4 - 0s - loss: 0.6549 - accuracy: 0.6600 - 5ms/epoch - 1ms/step\n",
      "Epoch 55/150\n",
      "4/4 - 0s - loss: 0.6500 - accuracy: 0.6700 - 5ms/epoch - 1ms/step\n",
      "Epoch 56/150\n",
      "4/4 - 0s - loss: 0.6447 - accuracy: 0.6700 - 4ms/epoch - 1ms/step\n",
      "Epoch 57/150\n",
      "4/4 - 0s - loss: 0.6397 - accuracy: 0.6600 - 4ms/epoch - 1ms/step\n",
      "Epoch 58/150\n",
      "4/4 - 0s - loss: 0.6346 - accuracy: 0.6600 - 6ms/epoch - 1ms/step\n",
      "Epoch 59/150\n",
      "4/4 - 0s - loss: 0.6298 - accuracy: 0.6600 - 4ms/epoch - 1ms/step\n",
      "Epoch 60/150\n",
      "4/4 - 0s - loss: 0.6247 - accuracy: 0.6600 - 5ms/epoch - 1ms/step\n",
      "Epoch 61/150\n",
      "4/4 - 0s - loss: 0.6204 - accuracy: 0.6500 - 5ms/epoch - 1ms/step\n",
      "Epoch 62/150\n",
      "4/4 - 0s - loss: 0.6157 - accuracy: 0.6500 - 4ms/epoch - 1ms/step\n",
      "Epoch 63/150\n",
      "4/4 - 0s - loss: 0.6117 - accuracy: 0.6500 - 5ms/epoch - 1ms/step\n",
      "Epoch 64/150\n",
      "4/4 - 0s - loss: 0.6074 - accuracy: 0.6600 - 4ms/epoch - 1ms/step\n",
      "Epoch 65/150\n",
      "4/4 - 0s - loss: 0.6030 - accuracy: 0.6600 - 6ms/epoch - 1ms/step\n",
      "Epoch 66/150\n",
      "4/4 - 0s - loss: 0.5985 - accuracy: 0.6500 - 5ms/epoch - 1ms/step\n",
      "Epoch 67/150\n",
      "4/4 - 0s - loss: 0.5946 - accuracy: 0.6500 - 5ms/epoch - 1ms/step\n",
      "Epoch 68/150\n",
      "4/4 - 0s - loss: 0.5904 - accuracy: 0.6500 - 5ms/epoch - 1ms/step\n",
      "Epoch 69/150\n",
      "4/4 - 0s - loss: 0.5865 - accuracy: 0.6500 - 5ms/epoch - 1ms/step\n",
      "Epoch 70/150\n",
      "4/4 - 0s - loss: 0.5827 - accuracy: 0.6500 - 5ms/epoch - 1ms/step\n",
      "Epoch 71/150\n",
      "4/4 - 0s - loss: 0.5790 - accuracy: 0.6500 - 4ms/epoch - 1ms/step\n",
      "Epoch 72/150\n",
      "4/4 - 0s - loss: 0.5752 - accuracy: 0.6500 - 4ms/epoch - 1ms/step\n",
      "Epoch 73/150\n",
      "4/4 - 0s - loss: 0.5718 - accuracy: 0.6500 - 6ms/epoch - 1ms/step\n",
      "Epoch 74/150\n",
      "4/4 - 0s - loss: 0.5681 - accuracy: 0.6500 - 4ms/epoch - 1ms/step\n",
      "Epoch 75/150\n",
      "4/4 - 0s - loss: 0.5647 - accuracy: 0.6500 - 5ms/epoch - 1ms/step\n",
      "Epoch 76/150\n",
      "4/4 - 0s - loss: 0.5615 - accuracy: 0.6500 - 6ms/epoch - 1ms/step\n",
      "Epoch 77/150\n",
      "4/4 - 0s - loss: 0.5583 - accuracy: 0.6500 - 5ms/epoch - 1ms/step\n",
      "Epoch 78/150\n",
      "4/4 - 0s - loss: 0.5552 - accuracy: 0.6500 - 5ms/epoch - 1ms/step\n",
      "Epoch 79/150\n",
      "4/4 - 0s - loss: 0.5524 - accuracy: 0.6500 - 4ms/epoch - 1ms/step\n",
      "Epoch 80/150\n",
      "4/4 - 0s - loss: 0.5495 - accuracy: 0.6500 - 5ms/epoch - 1ms/step\n",
      "Epoch 81/150\n",
      "4/4 - 0s - loss: 0.5470 - accuracy: 0.6500 - 5ms/epoch - 1ms/step\n",
      "Epoch 82/150\n",
      "4/4 - 0s - loss: 0.5446 - accuracy: 0.6500 - 4ms/epoch - 1ms/step\n",
      "Epoch 83/150\n",
      "4/4 - 0s - loss: 0.5420 - accuracy: 0.6500 - 6ms/epoch - 1ms/step\n",
      "Epoch 84/150\n",
      "4/4 - 0s - loss: 0.5395 - accuracy: 0.6500 - 5ms/epoch - 1ms/step\n",
      "Epoch 85/150\n",
      "4/4 - 0s - loss: 0.5367 - accuracy: 0.6500 - 5ms/epoch - 1ms/step\n",
      "Epoch 86/150\n",
      "4/4 - 0s - loss: 0.5343 - accuracy: 0.6500 - 4ms/epoch - 1ms/step\n",
      "Epoch 87/150\n",
      "4/4 - 0s - loss: 0.5320 - accuracy: 0.6500 - 5ms/epoch - 1ms/step\n",
      "Epoch 88/150\n",
      "4/4 - 0s - loss: 0.5295 - accuracy: 0.6500 - 6ms/epoch - 1ms/step\n",
      "Epoch 89/150\n",
      "4/4 - 0s - loss: 0.5268 - accuracy: 0.6500 - 5ms/epoch - 1ms/step\n",
      "Epoch 90/150\n",
      "4/4 - 0s - loss: 0.5247 - accuracy: 0.6500 - 5ms/epoch - 1ms/step\n",
      "Epoch 91/150\n",
      "4/4 - 0s - loss: 0.5224 - accuracy: 0.6500 - 6ms/epoch - 1ms/step\n",
      "Epoch 92/150\n",
      "4/4 - 0s - loss: 0.5204 - accuracy: 0.6600 - 5ms/epoch - 1ms/step\n",
      "Epoch 93/150\n",
      "4/4 - 0s - loss: 0.5183 - accuracy: 0.6800 - 5ms/epoch - 1ms/step\n",
      "Epoch 94/150\n",
      "4/4 - 0s - loss: 0.5161 - accuracy: 0.7000 - 4ms/epoch - 1ms/step\n",
      "Epoch 95/150\n",
      "4/4 - 0s - loss: 0.5147 - accuracy: 0.7300 - 4ms/epoch - 1ms/step\n",
      "Epoch 96/150\n",
      "4/4 - 0s - loss: 0.5123 - accuracy: 0.7800 - 5ms/epoch - 1ms/step\n",
      "Epoch 97/150\n",
      "4/4 - 0s - loss: 0.5102 - accuracy: 0.8100 - 5ms/epoch - 1ms/step\n",
      "Epoch 98/150\n",
      "4/4 - 0s - loss: 0.5078 - accuracy: 0.7900 - 6ms/epoch - 2ms/step\n",
      "Epoch 99/150\n",
      "4/4 - 0s - loss: 0.5056 - accuracy: 0.7600 - 5ms/epoch - 1ms/step\n",
      "Epoch 100/150\n",
      "4/4 - 0s - loss: 0.5034 - accuracy: 0.7500 - 5ms/epoch - 1ms/step\n",
      "Epoch 101/150\n",
      "4/4 - 0s - loss: 0.5012 - accuracy: 0.7200 - 5ms/epoch - 1ms/step\n",
      "Epoch 102/150\n",
      "4/4 - 0s - loss: 0.4990 - accuracy: 0.7200 - 5ms/epoch - 1ms/step\n",
      "Epoch 103/150\n",
      "4/4 - 0s - loss: 0.4969 - accuracy: 0.7200 - 5ms/epoch - 1ms/step\n",
      "Epoch 104/150\n",
      "4/4 - 0s - loss: 0.4950 - accuracy: 0.7100 - 5ms/epoch - 1ms/step\n",
      "Epoch 105/150\n",
      "4/4 - 0s - loss: 0.4928 - accuracy: 0.7100 - 7ms/epoch - 2ms/step\n",
      "Epoch 106/150\n",
      "4/4 - 0s - loss: 0.4906 - accuracy: 0.7100 - 6ms/epoch - 1ms/step\n",
      "Epoch 107/150\n",
      "4/4 - 0s - loss: 0.4885 - accuracy: 0.7200 - 6ms/epoch - 1ms/step\n",
      "Epoch 108/150\n",
      "4/4 - 0s - loss: 0.4864 - accuracy: 0.7200 - 5ms/epoch - 1ms/step\n",
      "Epoch 109/150\n",
      "4/4 - 0s - loss: 0.4845 - accuracy: 0.7100 - 6ms/epoch - 2ms/step\n",
      "Epoch 110/150\n",
      "4/4 - 0s - loss: 0.4820 - accuracy: 0.7400 - 5ms/epoch - 1ms/step\n",
      "Epoch 111/150\n",
      "4/4 - 0s - loss: 0.4804 - accuracy: 0.7700 - 6ms/epoch - 1ms/step\n",
      "Epoch 112/150\n",
      "4/4 - 0s - loss: 0.4782 - accuracy: 0.7900 - 5ms/epoch - 1ms/step\n",
      "Epoch 113/150\n",
      "4/4 - 0s - loss: 0.4766 - accuracy: 0.8200 - 5ms/epoch - 1ms/step\n",
      "Epoch 114/150\n",
      "4/4 - 0s - loss: 0.4740 - accuracy: 0.8300 - 5ms/epoch - 1ms/step\n",
      "Epoch 115/150\n",
      "4/4 - 0s - loss: 0.4718 - accuracy: 0.8300 - 5ms/epoch - 1ms/step\n",
      "Epoch 116/150\n",
      "4/4 - 0s - loss: 0.4699 - accuracy: 0.8200 - 6ms/epoch - 2ms/step\n",
      "Epoch 117/150\n",
      "4/4 - 0s - loss: 0.4676 - accuracy: 0.8100 - 5ms/epoch - 1ms/step\n",
      "Epoch 118/150\n",
      "4/4 - 0s - loss: 0.4655 - accuracy: 0.8300 - 5ms/epoch - 1ms/step\n",
      "Epoch 119/150\n",
      "4/4 - 0s - loss: 0.4632 - accuracy: 0.8300 - 5ms/epoch - 1ms/step\n",
      "Epoch 120/150\n",
      "4/4 - 0s - loss: 0.4609 - accuracy: 0.8500 - 5ms/epoch - 1ms/step\n",
      "Epoch 121/150\n",
      "4/4 - 0s - loss: 0.4590 - accuracy: 0.8800 - 5ms/epoch - 1ms/step\n",
      "Epoch 122/150\n",
      "4/4 - 0s - loss: 0.4570 - accuracy: 0.9100 - 5ms/epoch - 1ms/step\n",
      "Epoch 123/150\n",
      "4/4 - 0s - loss: 0.4549 - accuracy: 0.9200 - 5ms/epoch - 1ms/step\n",
      "Epoch 124/150\n",
      "4/4 - 0s - loss: 0.4533 - accuracy: 0.9300 - 5ms/epoch - 1ms/step\n",
      "Epoch 125/150\n",
      "4/4 - 0s - loss: 0.4511 - accuracy: 0.9400 - 6ms/epoch - 2ms/step\n",
      "Epoch 126/150\n",
      "4/4 - 0s - loss: 0.4486 - accuracy: 0.9200 - 5ms/epoch - 1ms/step\n",
      "Epoch 127/150\n",
      "4/4 - 0s - loss: 0.4458 - accuracy: 0.9100 - 6ms/epoch - 2ms/step\n",
      "Epoch 128/150\n",
      "4/4 - 0s - loss: 0.4439 - accuracy: 0.9100 - 5ms/epoch - 1ms/step\n",
      "Epoch 129/150\n",
      "4/4 - 0s - loss: 0.4418 - accuracy: 0.9100 - 5ms/epoch - 1ms/step\n",
      "Epoch 130/150\n",
      "4/4 - 0s - loss: 0.4396 - accuracy: 0.9000 - 5ms/epoch - 1ms/step\n",
      "Epoch 131/150\n",
      "4/4 - 0s - loss: 0.4373 - accuracy: 0.9100 - 6ms/epoch - 1ms/step\n",
      "Epoch 132/150\n",
      "4/4 - 0s - loss: 0.4350 - accuracy: 0.9100 - 6ms/epoch - 2ms/step\n",
      "Epoch 133/150\n",
      "4/4 - 0s - loss: 0.4328 - accuracy: 0.9100 - 6ms/epoch - 1ms/step\n",
      "Epoch 134/150\n",
      "4/4 - 0s - loss: 0.4308 - accuracy: 0.9100 - 5ms/epoch - 1ms/step\n",
      "Epoch 135/150\n",
      "4/4 - 0s - loss: 0.4283 - accuracy: 0.9300 - 5ms/epoch - 1ms/step\n",
      "Epoch 136/150\n",
      "4/4 - 0s - loss: 0.4257 - accuracy: 0.9300 - 5ms/epoch - 1ms/step\n",
      "Epoch 137/150\n",
      "4/4 - 0s - loss: 0.4232 - accuracy: 0.9200 - 23ms/epoch - 6ms/step\n",
      "Epoch 138/150\n",
      "4/4 - 0s - loss: 0.4214 - accuracy: 0.9100 - 6ms/epoch - 1ms/step\n",
      "Epoch 139/150\n",
      "4/4 - 0s - loss: 0.4187 - accuracy: 0.9100 - 6ms/epoch - 2ms/step\n",
      "Epoch 140/150\n",
      "4/4 - 0s - loss: 0.4174 - accuracy: 0.9100 - 5ms/epoch - 1ms/step\n",
      "Epoch 141/150\n",
      "4/4 - 0s - loss: 0.4146 - accuracy: 0.9100 - 6ms/epoch - 2ms/step\n",
      "Epoch 142/150\n",
      "4/4 - 0s - loss: 0.4117 - accuracy: 0.9100 - 5ms/epoch - 1ms/step\n",
      "Epoch 143/150\n",
      "4/4 - 0s - loss: 0.4092 - accuracy: 0.9100 - 5ms/epoch - 1ms/step\n",
      "Epoch 144/150\n",
      "4/4 - 0s - loss: 0.4064 - accuracy: 0.9100 - 5ms/epoch - 1ms/step\n",
      "Epoch 145/150\n",
      "4/4 - 0s - loss: 0.4034 - accuracy: 0.9200 - 6ms/epoch - 2ms/step\n",
      "Epoch 146/150\n",
      "4/4 - 0s - loss: 0.4009 - accuracy: 0.9400 - 7ms/epoch - 2ms/step\n",
      "Epoch 147/150\n",
      "4/4 - 0s - loss: 0.3985 - accuracy: 0.9500 - 6ms/epoch - 1ms/step\n",
      "Epoch 148/150\n",
      "4/4 - 0s - loss: 0.3962 - accuracy: 0.9500 - 6ms/epoch - 1ms/step\n",
      "Epoch 149/150\n",
      "4/4 - 0s - loss: 0.3938 - accuracy: 0.9500 - 6ms/epoch - 1ms/step\n",
      "Epoch 150/150\n",
      "4/4 - 0s - loss: 0.3913 - accuracy: 0.9500 - 6ms/epoch - 1ms/step\n"
     ]
    },
    {
     "data": {
      "text/plain": [
       "<keras.callbacks.History at 0x7f9013b2b730>"
      ]
     },
     "execution_count": 27,
     "metadata": {},
     "output_type": "execute_result"
    }
   ],
   "source": [
    "model.fit(scaled_X_train,y_train,epochs=150,verbose=2)"
   ]
  },
  {
   "cell_type": "code",
   "execution_count": 32,
   "id": "1882612b-358a-414d-9097-6cf0318553af",
   "metadata": {},
   "outputs": [
    {
     "name": "stdout",
     "output_type": "stream",
     "text": [
      "2/2 [==============================] - 0s 2ms/step\n"
     ]
    }
   ],
   "source": [
    "predictions = model.predict(scaled_X_test) \n",
    "classes=np.argmax(predictions,axis=1)"
   ]
  },
  {
   "cell_type": "code",
   "execution_count": 33,
   "id": "64880c14-aca2-464c-9087-430b01414cbb",
   "metadata": {},
   "outputs": [
    {
     "data": {
      "text/plain": [
       "array([1, 0, 2, 1, 1, 0, 1, 2, 1, 1, 2, 0, 0, 0, 0, 1, 2, 1, 1, 2, 0, 2,\n",
       "       0, 2, 2, 2, 2, 2, 0, 0, 0, 0, 1, 0, 0, 2, 1, 0, 0, 0, 2, 1, 1, 0,\n",
       "       0, 1, 2, 2, 1, 2])"
      ]
     },
     "execution_count": 33,
     "metadata": {},
     "output_type": "execute_result"
    }
   ],
   "source": [
    "y_test.argmax(axis=1)"
   ]
  },
  {
   "cell_type": "code",
   "execution_count": 35,
   "id": "24d8572c-da27-4d41-8247-03c1e54c87a1",
   "metadata": {},
   "outputs": [
    {
     "data": {
      "text/plain": [
       "array([[19,  0,  0],\n",
       "       [ 0, 14,  1],\n",
       "       [ 0,  1, 15]])"
      ]
     },
     "execution_count": 35,
     "metadata": {},
     "output_type": "execute_result"
    }
   ],
   "source": [
    "confusion_matrix(y_test.argmax(axis=1),classes)"
   ]
  },
  {
   "cell_type": "code",
   "execution_count": 36,
   "id": "c408167d-84e9-408b-8ee6-a9db8d1571b8",
   "metadata": {},
   "outputs": [
    {
     "name": "stdout",
     "output_type": "stream",
     "text": [
      "              precision    recall  f1-score   support\n",
      "\n",
      "           0       1.00      1.00      1.00        19\n",
      "           1       0.93      0.93      0.93        15\n",
      "           2       0.94      0.94      0.94        16\n",
      "\n",
      "    accuracy                           0.96        50\n",
      "   macro avg       0.96      0.96      0.96        50\n",
      "weighted avg       0.96      0.96      0.96        50\n",
      "\n"
     ]
    }
   ],
   "source": [
    "print(classification_report(y_test.argmax(axis=1),classes))"
   ]
  },
  {
   "cell_type": "code",
   "execution_count": 37,
   "id": "db1c1e53-df35-40b1-8e54-470e973f8427",
   "metadata": {},
   "outputs": [
    {
     "data": {
      "text/plain": [
       "0.96"
      ]
     },
     "execution_count": 37,
     "metadata": {},
     "output_type": "execute_result"
    }
   ],
   "source": [
    "accuracy_score(y_test.argmax(axis=1),classes)"
   ]
  },
  {
   "cell_type": "code",
   "execution_count": null,
   "id": "e191d36a-b524-431d-b35a-e6285ea9c149",
   "metadata": {},
   "outputs": [],
   "source": []
  }
 ],
 "metadata": {
  "kernelspec": {
   "display_name": "Python 3 (ipykernel)",
   "language": "python",
   "name": "python3"
  },
  "language_info": {
   "codemirror_mode": {
    "name": "ipython",
    "version": 3
   },
   "file_extension": ".py",
   "mimetype": "text/x-python",
   "name": "python",
   "nbconvert_exporter": "python",
   "pygments_lexer": "ipython3",
   "version": "3.9.7"
  }
 },
 "nbformat": 4,
 "nbformat_minor": 5
}
